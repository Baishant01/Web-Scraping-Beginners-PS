{
 "cells": [
  {
   "cell_type": "markdown",
   "id": "7603b257",
   "metadata": {},
   "source": [
    "# This code scraps data from merolagani website (webpage link = [https://merolagani.com/CompanyList.aspx]).\n",
    "# It aims to extract companies listed under different field in different csv's."
   ]
  },
  {
   "cell_type": "code",
   "execution_count": 2,
   "id": "951a4ca1",
   "metadata": {},
   "outputs": [],
   "source": [
    "# importing required libraries\n",
    "\n",
    "import requests\n",
    "from bs4 import BeautifulSoup\n",
    "import pandas as pd"
   ]
  },
  {
   "cell_type": "code",
   "execution_count": 3,
   "id": "414e4751",
   "metadata": {},
   "outputs": [],
   "source": [
    "# Requesting webpage access\n",
    "webpage_request = requests.get(\"https://merolagani.com/CompanyList.aspx\")\n",
    "\n",
    "# Parsing webpage content (parsing = converting HTML into tree like structure)\n",
    "webpage_content = BeautifulSoup(webpage_request.text, \"lxml\")"
   ]
  },
  {
   "cell_type": "code",
   "execution_count": 4,
   "id": "0a053979",
   "metadata": {},
   "outputs": [
    {
     "data": {
      "text/plain": [
       "['Symbol', 'Company Name', 'Listed Shares', 'Paidup Value', 'Total Paidup']"
      ]
     },
     "execution_count": 4,
     "metadata": {},
     "output_type": "execute_result"
    }
   ],
   "source": [
    "# Extracting table column names from the first table of the webpage\n",
    "\n",
    "table_columns = []\n",
    "for col in webpage_content.find_all('table')[0].find_all(\"th\"):\n",
    "    table_columns.append(col.text.strip())\n",
    "\n",
    "table_columns   "
   ]
  },
  {
   "cell_type": "code",
   "execution_count": 36,
   "id": "ad142228",
   "metadata": {},
   "outputs": [],
   "source": [
    "# heading_no for extracting heading name of company's category\n",
    "# table_row_range for extracting all data from table of specific category mentioned in stock_category_heading\n",
    "def extract_company_data(heading_no, table_row_range):\n",
    "    # Extracting category name\n",
    "    stock_category_heading = webpage_content.find_all('h3')[heading_no].text.strip()\n",
    "\n",
    "    # Initializing list to hold all rows of data\n",
    "    total_rows = []\n",
    "    row_data_table =    webpage_content.find_all('tr')[table_row_range]\n",
    "\n",
    "    # Iterating through each row\n",
    "    for row in row_data_table[1:]:  # Skipping the header row\n",
    "        individual_row = [col.text.strip() for col in row.find_all(\"td\")]\n",
    "        total_rows.append(individual_row)\n",
    "\n",
    "    df = pd.DataFrame(total_rows, columns=table_columns)\n",
    "\n",
    "    # saving DataFrame to CSV\n",
    "    df.to_csv(f\"Data/{stock_category_heading}.csv\", index=False)"
   ]
  },
  {
   "cell_type": "markdown",
   "id": "5839ee92",
   "metadata": {},
   "source": [
    "## Commercial Banks"
   ]
  },
  {
   "cell_type": "code",
   "execution_count": 12,
   "id": "f8a176ce",
   "metadata": {},
   "outputs": [],
   "source": [
    "extract_company_data(heading_no = 1, table_row_range = slice(0, 20))"
   ]
  },
  {
   "cell_type": "markdown",
   "id": "0f57353b",
   "metadata": {},
   "source": [
    "## Corporate Debenture"
   ]
  },
  {
   "cell_type": "code",
   "execution_count": 13,
   "id": "484784ac",
   "metadata": {},
   "outputs": [],
   "source": [
    "extract_company_data(heading_no = 2, table_row_range = slice(20, 102))"
   ]
  },
  {
   "cell_type": "markdown",
   "id": "e2c61b8c",
   "metadata": {},
   "source": [
    "## Development Bank Limited"
   ]
  },
  {
   "cell_type": "code",
   "execution_count": 14,
   "id": "68fb40a4",
   "metadata": {},
   "outputs": [],
   "source": [
    "extract_company_data(heading_no = 3, table_row_range = slice(102, 118))"
   ]
  },
  {
   "cell_type": "markdown",
   "id": "621d9a43",
   "metadata": {},
   "source": [
    "## Finance"
   ]
  },
  {
   "cell_type": "code",
   "execution_count": 15,
   "id": "c8afa16c",
   "metadata": {},
   "outputs": [],
   "source": [
    "extract_company_data(heading_no = 4, table_row_range = slice(118, 134 ))"
   ]
  },
  {
   "cell_type": "markdown",
   "id": "366a503d",
   "metadata": {},
   "source": [
    "## Government Bond"
   ]
  },
  {
   "cell_type": "code",
   "execution_count": 18,
   "id": "674f9ea7",
   "metadata": {},
   "outputs": [],
   "source": [
    "extract_company_data(heading_no = 5, table_row_range = slice(134, 154))"
   ]
  },
  {
   "cell_type": "markdown",
   "id": "b9259b94",
   "metadata": {},
   "source": [
    "## Hotels And Tourism"
   ]
  },
  {
   "cell_type": "code",
   "execution_count": 19,
   "id": "b6615162",
   "metadata": {},
   "outputs": [],
   "source": [
    "extract_company_data(heading_no = 6, table_row_range = slice(154, 161))"
   ]
  },
  {
   "cell_type": "markdown",
   "id": "5afebd45",
   "metadata": {},
   "source": [
    "## Hydro Power"
   ]
  },
  {
   "cell_type": "code",
   "execution_count": 20,
   "id": "f74efd84",
   "metadata": {},
   "outputs": [],
   "source": [
    "extract_company_data(heading_no = 7, table_row_range = slice(161, 254))"
   ]
  },
  {
   "cell_type": "markdown",
   "id": "75a252c9",
   "metadata": {},
   "source": [
    "## Investment"
   ]
  },
  {
   "cell_type": "code",
   "execution_count": 21,
   "id": "446f01f7",
   "metadata": {},
   "outputs": [],
   "source": [
    "extract_company_data(heading_no = 8, table_row_range = slice(254, 262))\n"
   ]
  },
  {
   "cell_type": "markdown",
   "id": "42667c79",
   "metadata": {},
   "source": [
    "## Life Insurance"
   ]
  },
  {
   "cell_type": "code",
   "execution_count": 23,
   "id": "39ae89d5",
   "metadata": {},
   "outputs": [],
   "source": [
    "extract_company_data(heading_no = 9, table_row_range = slice(262, 277))\n"
   ]
  },
  {
   "cell_type": "markdown",
   "id": "91061cc8",
   "metadata": {},
   "source": [
    "## Manufacturing And Processing"
   ]
  },
  {
   "cell_type": "code",
   "execution_count": 24,
   "id": "eb0dafcd",
   "metadata": {},
   "outputs": [],
   "source": [
    "extract_company_data(heading_no = 10, table_row_range = slice(277, 288))\n"
   ]
  },
  {
   "cell_type": "markdown",
   "id": "436a2c13",
   "metadata": {},
   "source": [
    "## Microfinance"
   ]
  },
  {
   "cell_type": "code",
   "execution_count": 25,
   "id": "bc6d0c5c",
   "metadata": {},
   "outputs": [],
   "source": [
    "extract_company_data(heading_no = 11, table_row_range = slice(288, 339))\n"
   ]
  },
  {
   "cell_type": "markdown",
   "id": "cf06b23c",
   "metadata": {},
   "source": [
    "## Mutual Fund"
   ]
  },
  {
   "cell_type": "code",
   "execution_count": 26,
   "id": "2e57fd02",
   "metadata": {},
   "outputs": [],
   "source": [
    "extract_company_data(heading_no = 12, table_row_range = slice(339, 387))\n"
   ]
  },
  {
   "cell_type": "markdown",
   "id": "ddc15659",
   "metadata": {},
   "source": [
    "## Non-Life Insurance"
   ]
  },
  {
   "cell_type": "code",
   "execution_count": 27,
   "id": "1dd6f5da",
   "metadata": {},
   "outputs": [],
   "source": [
    "extract_company_data(heading_no = 13, table_row_range = slice(387, 401))\n"
   ]
  },
  {
   "cell_type": "markdown",
   "id": "4f4be5cd",
   "metadata": {},
   "source": [
    "## Others"
   ]
  },
  {
   "cell_type": "code",
   "execution_count": 28,
   "id": "4245aef5",
   "metadata": {},
   "outputs": [],
   "source": [
    "extract_company_data(heading_no = 14, table_row_range = slice(401, 410))\n"
   ]
  },
  {
   "cell_type": "markdown",
   "id": "aba12e51",
   "metadata": {},
   "source": [
    "## Promoter Share"
   ]
  },
  {
   "cell_type": "code",
   "execution_count": 34,
   "id": "308c26ea",
   "metadata": {},
   "outputs": [],
   "source": [
    "extract_company_data(heading_no = 16, table_row_range = slice(410, 543))\n"
   ]
  },
  {
   "cell_type": "markdown",
   "id": "5408afda",
   "metadata": {},
   "source": [
    "## Tradings"
   ]
  },
  {
   "cell_type": "code",
   "execution_count": 35,
   "id": "d0784f71",
   "metadata": {},
   "outputs": [],
   "source": [
    "extract_company_data(heading_no = 17, table_row_range = slice(543, 547))\n"
   ]
  }
 ],
 "metadata": {
  "kernelspec": {
   "display_name": "ML",
   "language": "python",
   "name": "python3"
  },
  "language_info": {
   "codemirror_mode": {
    "name": "ipython",
    "version": 3
   },
   "file_extension": ".py",
   "mimetype": "text/x-python",
   "name": "python",
   "nbconvert_exporter": "python",
   "pygments_lexer": "ipython3",
   "version": "3.13.5"
  }
 },
 "nbformat": 4,
 "nbformat_minor": 5
}
